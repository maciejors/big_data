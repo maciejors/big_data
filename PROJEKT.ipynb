{
 "cells": [
  {
   "cell_type": "code",
   "execution_count": 1,
   "id": "c6954b71",
   "metadata": {},
   "outputs": [],
   "source": [
    "import findspark\n",
    "import happybase\n",
    "import pandas as pd\n",
    "import numpy as np"
   ]
  },
  {
   "cell_type": "code",
   "execution_count": 2,
   "id": "02f753c7",
   "metadata": {},
   "outputs": [],
   "source": [
    "findspark.init()"
   ]
  },
  {
   "cell_type": "code",
   "execution_count": 40,
   "id": "c6c73f1d",
   "metadata": {},
   "outputs": [],
   "source": [
    "from pyspark.sql import SparkSession\n",
    "import pyspark.sql.functions as f\n",
    "spark = (\n",
    "    SparkSession.builder\n",
    "    .appName(\"StackExchange\")\n",
    "    .getOrCreate()\n",
    ")"
   ]
  },
  {
   "cell_type": "code",
   "execution_count": 41,
   "id": "80c261b4",
   "metadata": {},
   "outputs": [],
   "source": [
    "VM_address = 'localhost'\n",
    "conn = happybase.Connection(VM_address)"
   ]
  },
  {
   "cell_type": "code",
   "execution_count": 22,
   "id": "0d1e14e9",
   "metadata": {},
   "outputs": [],
   "source": [
    "table_name = 'stackoverflow'\n",
    "table_stackoverflow = conn.table(table_name)"
   ]
  },
  {
   "cell_type": "code",
   "execution_count": 23,
   "id": "5aaab574",
   "metadata": {},
   "outputs": [
    {
     "name": "stdout",
     "output_type": "stream",
     "text": [
      "KEY: b'75430619'\n",
      "\tCOLUMN: b'owner:account_id' | VALUE: b'117126'\n",
      "\tCOLUMN: b'owner:reputation' | VALUE: b'545'\n",
      "\tCOLUMN: b'owner:user_id' | VALUE: b'306857'\n",
      "\tCOLUMN: b'owner:user_type' | VALUE: b'registered'\n",
      "\tCOLUMN: b'post_details:answer_count' | VALUE: b'1'\n",
      "\tCOLUMN: b'post_details:creation_date' | VALUE: b'1676241304'\n",
      "\tCOLUMN: b'post_details:is_answered' | VALUE: b'true'\n",
      "\tCOLUMN: b'post_details:last_activity_date' | VALUE: b'1676246557'\n",
      "\tCOLUMN: b'post_details:score' | VALUE: b'0'\n",
      "\tCOLUMN: b'post_details:title' | VALUE: b'Echo input into output, at the right place'\n",
      "\tCOLUMN: b'post_details:view_count' | VALUE: b'106'\n",
      "\tCOLUMN: b'tags:tags' | VALUE: b'[\"c\",\"input\",\"io\",\"user-input\",\"io-redirection\"]'\n",
      "KEY: b'75430621'\n",
      "\tCOLUMN: b'owner:account_id' | VALUE: b'24174919'\n",
      "\tCOLUMN: b'owner:reputation' | VALUE: b'13'\n",
      "\tCOLUMN: b'owner:user_id' | VALUE: b'18136532'\n",
      "\tCOLUMN: b'owner:user_type' | VALUE: b'registered'\n",
      "\tCOLUMN: b'post_details:answer_count' | VALUE: b'0'\n",
      "\tCOLUMN: b'post_details:creation_date' | VALUE: b'1676241369'\n",
      "\tCOLUMN: b'post_details:is_answered' | VALUE: b'false'\n",
      "\tCOLUMN: b'post_details:last_activity_date' | VALUE: b'1676241369'\n",
      "\tCOLUMN: b'post_details:score' | VALUE: b'0'\n",
      "\tCOLUMN: b'post_details:title' | VALUE: b'How to compute impulse responses for Bayesian estimation SVAR from BSVARS package in R using code provided in GitHub?'\n",
      "\tCOLUMN: b'post_details:view_count' | VALUE: b'60'\n",
      "\tCOLUMN: b'tags:tags' | VALUE: b'[\"r\",\"bayesian\",\"vector-auto-regression\"]'\n",
      "KEY: b'75430622'\n",
      "\tCOLUMN: b'owner:account_id' | VALUE: b'18517358'\n",
      "\tCOLUMN: b'owner:reputation' | VALUE: b'100'\n",
      "\tCOLUMN: b'owner:user_id' | VALUE: b'13491206'\n",
      "\tCOLUMN: b'owner:user_type' | VALUE: b'registered'\n",
      "\tCOLUMN: b'post_details:answer_count' | VALUE: b'0'\n",
      "\tCOLUMN: b'post_details:creation_date' | VALUE: b'1676241414'\n",
      "\tCOLUMN: b'post_details:is_answered' | VALUE: b'false'\n",
      "\tCOLUMN: b'post_details:last_activity_date' | VALUE: b'1676241414'\n",
      "\tCOLUMN: b'post_details:score' | VALUE: b'1'\n",
      "\tCOLUMN: b'post_details:title' | VALUE: b'Flutter QuillEditor not following cursor inside a ListView'\n",
      "\tCOLUMN: b'post_details:view_count' | VALUE: b'199'\n",
      "\tCOLUMN: b'tags:tags' | VALUE: b'[\"flutter\",\"quill\",\"scrollable\"]'\n"
     ]
    }
   ],
   "source": [
    "for key, data in table_stackoverflow.scan(limit=3):\n",
    "    print(f'KEY: {key}')\n",
    "    for column, value in data.items():\n",
    "        print(f'\\tCOLUMN: {column} | VALUE: {value}')\n"
   ]
  },
  {
   "cell_type": "markdown",
   "id": "8c82f585",
   "metadata": {},
   "source": [
    "### Wczytanie danych do dataFrame"
   ]
  },
  {
   "cell_type": "code",
   "execution_count": 24,
   "id": "512a6b5e",
   "metadata": {},
   "outputs": [],
   "source": [
    "df_online_rows=[]\n",
    "df_online_tags_rows=[]\n",
    "for key, data in table_stackoverflow.scan():\n",
    "    last_edit_date = int(data.get(b'post_details:last_edit_date', b'0').decode('UTF-8'))\n",
    "    if last_edit_date == 0:\n",
    "        last_edit_date = None\n",
    "        \n",
    "    owner_account_id = int(data.get(b'owner:account_id', b'0').decode('UTF-8'))\n",
    "    if owner_account_id == 0:\n",
    "        owner_account_id = None\n",
    "        \n",
    "    owner_reputation = int(data.get(b'owner:reputation', b'-1000000000').decode('UTF-8'))\n",
    "    if owner_reputation == -1000000000:\n",
    "        owner_reputation = None\n",
    "    \n",
    "    owner_user_id = int(data.get(b'owner:user_id', b'-1000000000').decode('UTF-8'))\n",
    "    if owner_user_id == -1000000000:\n",
    "        owner_user_id = None\n",
    "    new_row = {\n",
    "        'owner_account_id': owner_account_id,\n",
    "        'owner_reputation': owner_reputation,\n",
    "        'owner_user_id': owner_user_id,\n",
    "        'owner_user_type': data[b'owner:user_type'].decode('UTF-8'),\n",
    "        'post_answer_count': int(data[b'post_details:answer_count'].decode('UTF-8')),\n",
    "        'post_creation_date': int(data[b'post_details:creation_date'].decode('UTF-8')),\n",
    "        'post_is_answered': bool(data[b'post_details:is_answered'].decode('UTF-8')),\n",
    "        'post_last_activity_date': int(data[b'post_details:last_activity_date'].decode('UTF-8')),\n",
    "        'post_last_edit_date': last_edit_date,\n",
    "        'post_score': int(data[b'post_details:score'].decode('UTF-8')),\n",
    "        'post_title': data[b'post_details:title'].decode('UTF-8'),\n",
    "        'post_view_count': int(data[b'post_details:view_count'].decode('UTF-8')),\n",
    "        'question_id': int(key.decode('UTF-8'))\n",
    "    }\n",
    "    df_online_rows.append(new_row)\n",
    "    tags = [t.strip('\"') for t in data[b'tags:tags'].decode('UTF-8').strip('[]').split(',')]\n",
    "    for tag in tags:\n",
    "        df_online_tags_rows.append({'question_id': new_row['question_id'],\n",
    "                                   'tag': tag})\n",
    "df_online = pd.DataFrame(df_online_rows)\n",
    "df_online_tags=pd.DataFrame(df_online_tags_rows)"
   ]
  },
  {
   "cell_type": "code",
   "execution_count": 29,
   "id": "7b4391b5",
   "metadata": {},
   "outputs": [
    {
     "data": {
      "text/plain": [
       "tag\n",
       "python              4886\n",
       "javascript          3226\n",
       "reactjs             1932\n",
       "java                1705\n",
       "c#                  1571\n",
       "                    ... \n",
       "telnetlib3             1\n",
       "onvif                  1\n",
       "honeywell              1\n",
       "mybatis-plus           1\n",
       "windows-firewall       1\n",
       "Name: count, Length: 13636, dtype: int64"
      ]
     },
     "execution_count": 29,
     "metadata": {},
     "output_type": "execute_result"
    }
   ],
   "source": [
    "df_online_tags['tag'].value_counts()"
   ]
  },
  {
   "cell_type": "code",
   "execution_count": 42,
   "id": "d969b305",
   "metadata": {},
   "outputs": [],
   "source": [
    "table_name = 'datascience_posts'\n",
    "table_datascience_posts = conn.table(table_name)\n",
    "table_name = 'datascience_users'\n",
    "table_datascience_users = conn.table(table_name)"
   ]
  },
  {
   "cell_type": "code",
   "execution_count": 36,
   "id": "24760c61",
   "metadata": {},
   "outputs": [
    {
     "name": "stdout",
     "output_type": "stream",
     "text": [
      "KEY: b'10000'\n",
      "\tCOLUMN: b'post:answerCount' | VALUE: b'1'\n",
      "\tCOLUMN: b'post:commentCount' | VALUE: b'2'\n",
      "\tCOLUMN: b'post:creationDate' | VALUE: b'2016-01-27T19:58:00.083'\n",
      "\tCOLUMN: b'post:lastActivityDate' | VALUE: b'2017-12-27T20:43:21.200'\n",
      "\tCOLUMN: b'post:lastEditDate' | VALUE: b'2016-01-27T21:00:53.283'\n",
      "\tCOLUMN: b'post:ownerUserId' | VALUE: b'8820'\n",
      "\tCOLUMN: b'post:score' | VALUE: b'15'\n",
      "\tCOLUMN: b'post:viewCount' | VALUE: b'7402'\n",
      "\tCOLUMN: b'tags:tags' | VALUE: b'<bayesian-networks><pgm>'\n",
      "KEY: b'100001'\n",
      "\tCOLUMN: b'post:answerCount' | VALUE: b'2'\n",
      "\tCOLUMN: b'post:commentCount' | VALUE: b'0'\n",
      "\tCOLUMN: b'post:creationDate' | VALUE: b'2021-08-12T18:39:11.853'\n",
      "\tCOLUMN: b'post:lastActivityDate' | VALUE: b'2021-08-18T12:36:43.523'\n",
      "\tCOLUMN: b'post:ownerUserId' | VALUE: b'121019'\n",
      "\tCOLUMN: b'post:score' | VALUE: b'1'\n",
      "\tCOLUMN: b'post:viewCount' | VALUE: b'215'\n",
      "\tCOLUMN: b'tags:tags' | VALUE: b'<machine-learning><nlp><transformer><machine-translation>'\n",
      "KEY: b'100003'\n",
      "\tCOLUMN: b'post:answerCount' | VALUE: b'0'\n",
      "\tCOLUMN: b'post:commentCount' | VALUE: b'3'\n",
      "\tCOLUMN: b'post:creationDate' | VALUE: b'2021-08-12T19:03:02.970'\n",
      "\tCOLUMN: b'post:lastActivityDate' | VALUE: b'2021-08-12T19:03:02.970'\n",
      "\tCOLUMN: b'post:ownerUserId' | VALUE: b'122641'\n",
      "\tCOLUMN: b'post:score' | VALUE: b'0'\n",
      "\tCOLUMN: b'post:viewCount' | VALUE: b'114'\n",
      "\tCOLUMN: b'tags:tags' | VALUE: b'<class-imbalance><multilabel-classification>'\n"
     ]
    }
   ],
   "source": [
    "for key, data in table_datascience_posts.scan(limit=3):\n",
    "    print(f'KEY: {key}')\n",
    "    for column, value in data.items():\n",
    "        print(f'\\tCOLUMN: {column} | VALUE: {value}')\n"
   ]
  },
  {
   "cell_type": "code",
   "execution_count": 43,
   "id": "b2bb4bfe",
   "metadata": {},
   "outputs": [
    {
     "ename": "KeyError",
     "evalue": "b'post:ownerUserId'",
     "output_type": "error",
     "traceback": [
      "\u001b[0;31m---------------------------------------------------------------------------\u001b[0m",
      "\u001b[0;31mKeyError\u001b[0m                                  Traceback (most recent call last)",
      "Cell \u001b[0;32mIn[43], line 18\u001b[0m\n\u001b[1;32m      8\u001b[0m     \u001b[38;5;28;01mif\u001b[39;00m closed_date \u001b[38;5;241m==\u001b[39m \u001b[38;5;124m'\u001b[39m\u001b[38;5;124m'\u001b[39m:\n\u001b[1;32m      9\u001b[0m         closed_date \u001b[38;5;241m=\u001b[39m \u001b[38;5;28;01mNone\u001b[39;00m\n\u001b[1;32m     11\u001b[0m     new_row \u001b[38;5;241m=\u001b[39m {\n\u001b[1;32m     12\u001b[0m         \u001b[38;5;124m'\u001b[39m\u001b[38;5;124manswerCount\u001b[39m\u001b[38;5;124m'\u001b[39m: \u001b[38;5;28mint\u001b[39m(data[\u001b[38;5;124mb\u001b[39m\u001b[38;5;124m'\u001b[39m\u001b[38;5;124mpost:answerCount\u001b[39m\u001b[38;5;124m'\u001b[39m]\u001b[38;5;241m.\u001b[39mdecode(\u001b[38;5;124m'\u001b[39m\u001b[38;5;124mUTF-8\u001b[39m\u001b[38;5;124m'\u001b[39m)),\n\u001b[1;32m     13\u001b[0m         \u001b[38;5;124m'\u001b[39m\u001b[38;5;124mcommentCount\u001b[39m\u001b[38;5;124m'\u001b[39m: \u001b[38;5;28mint\u001b[39m(data[\u001b[38;5;124mb\u001b[39m\u001b[38;5;124m'\u001b[39m\u001b[38;5;124mpost:commentCount\u001b[39m\u001b[38;5;124m'\u001b[39m]\u001b[38;5;241m.\u001b[39mdecode(\u001b[38;5;124m'\u001b[39m\u001b[38;5;124mUTF-8\u001b[39m\u001b[38;5;124m'\u001b[39m)),\n\u001b[1;32m     14\u001b[0m         \u001b[38;5;124m'\u001b[39m\u001b[38;5;124mcreationDate\u001b[39m\u001b[38;5;124m'\u001b[39m: data[\u001b[38;5;124mb\u001b[39m\u001b[38;5;124m'\u001b[39m\u001b[38;5;124mpost:creationDate\u001b[39m\u001b[38;5;124m'\u001b[39m]\u001b[38;5;241m.\u001b[39mdecode(\u001b[38;5;124m'\u001b[39m\u001b[38;5;124mUTF-8\u001b[39m\u001b[38;5;124m'\u001b[39m),\n\u001b[1;32m     15\u001b[0m         \u001b[38;5;124m'\u001b[39m\u001b[38;5;124mlastActivityDate\u001b[39m\u001b[38;5;124m'\u001b[39m: data[\u001b[38;5;124mb\u001b[39m\u001b[38;5;124m'\u001b[39m\u001b[38;5;124mpost:lastActivityDate\u001b[39m\u001b[38;5;124m'\u001b[39m]\u001b[38;5;241m.\u001b[39mdecode(\u001b[38;5;124m'\u001b[39m\u001b[38;5;124mUTF-8\u001b[39m\u001b[38;5;124m'\u001b[39m),\n\u001b[1;32m     16\u001b[0m         \u001b[38;5;124m'\u001b[39m\u001b[38;5;124mlastEditDate\u001b[39m\u001b[38;5;124m'\u001b[39m: last_edit_date,\n\u001b[1;32m     17\u001b[0m         \u001b[38;5;124m'\u001b[39m\u001b[38;5;124mclosedDate\u001b[39m\u001b[38;5;124m'\u001b[39m: closed_date,\n\u001b[0;32m---> 18\u001b[0m         \u001b[38;5;124m'\u001b[39m\u001b[38;5;124mownerUserId\u001b[39m\u001b[38;5;124m'\u001b[39m: \u001b[38;5;28mint\u001b[39m(\u001b[43mdata\u001b[49m\u001b[43m[\u001b[49m\u001b[38;5;124;43mb\u001b[39;49m\u001b[38;5;124;43m'\u001b[39;49m\u001b[38;5;124;43mpost:ownerUserId\u001b[39;49m\u001b[38;5;124;43m'\u001b[39;49m\u001b[43m]\u001b[49m\u001b[38;5;241m.\u001b[39mdecode(\u001b[38;5;124m'\u001b[39m\u001b[38;5;124mUTF-8\u001b[39m\u001b[38;5;124m'\u001b[39m)),\n\u001b[1;32m     19\u001b[0m         \u001b[38;5;124m'\u001b[39m\u001b[38;5;124mscore\u001b[39m\u001b[38;5;124m'\u001b[39m: \u001b[38;5;28mint\u001b[39m(data[\u001b[38;5;124mb\u001b[39m\u001b[38;5;124m'\u001b[39m\u001b[38;5;124mpost:score\u001b[39m\u001b[38;5;124m'\u001b[39m]\u001b[38;5;241m.\u001b[39mdecode(\u001b[38;5;124m'\u001b[39m\u001b[38;5;124mUTF-8\u001b[39m\u001b[38;5;124m'\u001b[39m)),\n\u001b[1;32m     20\u001b[0m         \u001b[38;5;124m'\u001b[39m\u001b[38;5;124mviewCount\u001b[39m\u001b[38;5;124m'\u001b[39m: \u001b[38;5;28mint\u001b[39m(data[\u001b[38;5;124mb\u001b[39m\u001b[38;5;124m'\u001b[39m\u001b[38;5;124mpost:viewCount\u001b[39m\u001b[38;5;124m'\u001b[39m]\u001b[38;5;241m.\u001b[39mdecode(\u001b[38;5;124m'\u001b[39m\u001b[38;5;124mUTF-8\u001b[39m\u001b[38;5;124m'\u001b[39m)),\n\u001b[1;32m     21\u001b[0m         \u001b[38;5;124m'\u001b[39m\u001b[38;5;124mtags\u001b[39m\u001b[38;5;124m'\u001b[39m: data[\u001b[38;5;124mb\u001b[39m\u001b[38;5;124m'\u001b[39m\u001b[38;5;124mtags:tags\u001b[39m\u001b[38;5;124m'\u001b[39m]\u001b[38;5;241m.\u001b[39mdecode(\u001b[38;5;124m'\u001b[39m\u001b[38;5;124mUTF-8\u001b[39m\u001b[38;5;124m'\u001b[39m),\n\u001b[1;32m     22\u001b[0m         \u001b[38;5;124m'\u001b[39m\u001b[38;5;124mquestion_id\u001b[39m\u001b[38;5;124m'\u001b[39m: key\u001b[38;5;241m.\u001b[39mdecode(\u001b[38;5;124m'\u001b[39m\u001b[38;5;124mUTF-8\u001b[39m\u001b[38;5;124m'\u001b[39m),\n\u001b[1;32m     23\u001b[0m     }\n\u001b[1;32m     24\u001b[0m     df_static_posts_rows\u001b[38;5;241m.\u001b[39mappend(new_row)\n\u001b[1;32m     25\u001b[0m \u001b[38;5;66;03m#     tags = [t.strip('\"') for t in data[b'tags:tags'].decode('UTF-8').strip('[]').split(',')]\u001b[39;00m\n\u001b[1;32m     26\u001b[0m \u001b[38;5;66;03m#     for tag in tags:\u001b[39;00m\n\u001b[1;32m     27\u001b[0m \u001b[38;5;66;03m#         df_online_tags_rows.append({'question_id': new_row['question_id'],\u001b[39;00m\n\u001b[1;32m     28\u001b[0m \u001b[38;5;66;03m#                                    'tag': tag})\u001b[39;00m\n",
      "\u001b[0;31mKeyError\u001b[0m: b'post:ownerUserId'"
     ]
    }
   ],
   "source": [
    "df_static_posts_rows=[]\n",
    "for key, data in table_datascience_posts.scan():\n",
    "    last_edit_date = data.get(b'post:lastEditDate', b'').decode('UTF-8')\n",
    "    if last_edit_date == '':\n",
    "        last_edit_date = None\n",
    "    \n",
    "    closed_date = data.get(b'post:closedDate', b'').decode('UTF-8')\n",
    "    if closed_date == '':\n",
    "        closed_date = None\n",
    "        \n",
    "    new_row = {\n",
    "        'answerCount': int(data[b'post:answerCount'].decode('UTF-8')),\n",
    "        'commentCount': int(data[b'post:commentCount'].decode('UTF-8')),\n",
    "        'creationDate': data[b'post:creationDate'].decode('UTF-8'),\n",
    "        'lastActivityDate': data[b'post:lastActivityDate'].decode('UTF-8'),\n",
    "        'lastEditDate': last_edit_date,\n",
    "        'closedDate': closed_date,\n",
    "        'ownerUserId': int(data[b'post:ownerUserId'].decode('UTF-8')),\n",
    "        'score': int(data[b'post:score'].decode('UTF-8')),\n",
    "        'viewCount': int(data[b'post:viewCount'].decode('UTF-8')),\n",
    "        'tags': data[b'tags:tags'].decode('UTF-8'),\n",
    "        'question_id': key.decode('UTF-8'),\n",
    "    }\n",
    "    df_static_posts_rows.append(new_row)\n",
    "#     tags = [t.strip('\"') for t in data[b'tags:tags'].decode('UTF-8').strip('[]').split(',')]\n",
    "#     for tag in tags:\n",
    "#         df_online_tags_rows.append({'question_id': new_row['question_id'],\n",
    "#                                    'tag': tag})\n",
    "df_static_posts = pd.DataFrame(df_static_posts_rows)\n",
    "#df_online_tags=pd.DataFrame(df_online_tags_rows)"
   ]
  },
  {
   "cell_type": "code",
   "execution_count": 37,
   "id": "50fe5789",
   "metadata": {},
   "outputs": [
    {
     "name": "stdout",
     "output_type": "stream",
     "text": [
      "KEY: b'-1'\n",
      "\tCOLUMN: b'user:creationDate' | VALUE: b'2014-05-13T21:29:22.820'\n",
      "\tCOLUMN: b'user:downVotes' | VALUE: b'2148'\n",
      "\tCOLUMN: b'user:reputation' | VALUE: b'1'\n",
      "\tCOLUMN: b'user:upVotes' | VALUE: b'841'\n",
      "\tCOLUMN: b'user:views' | VALUE: b'495'\n",
      "KEY: b'1'\n",
      "\tCOLUMN: b'user:creationDate' | VALUE: b'2014-05-13T22:58:54.810'\n",
      "\tCOLUMN: b'user:downVotes' | VALUE: b'0'\n",
      "\tCOLUMN: b'user:reputation' | VALUE: b'101'\n",
      "\tCOLUMN: b'user:upVotes' | VALUE: b'0'\n",
      "\tCOLUMN: b'user:views' | VALUE: b'723'\n",
      "KEY: b'10'\n",
      "\tCOLUMN: b'user:creationDate' | VALUE: b'2014-05-13T23:18:31.953'\n",
      "\tCOLUMN: b'user:downVotes' | VALUE: b'0'\n",
      "\tCOLUMN: b'user:reputation' | VALUE: b'101'\n",
      "\tCOLUMN: b'user:upVotes' | VALUE: b'1'\n",
      "\tCOLUMN: b'user:views' | VALUE: b'5'\n"
     ]
    }
   ],
   "source": [
    "for key, data in table_datascience_users.scan(limit=3):\n",
    "    print(f'KEY: {key}')\n",
    "    for column, value in data.items():\n",
    "        print(f'\\tCOLUMN: {column} | VALUE: {value}')\n"
   ]
  },
  {
   "cell_type": "code",
   "execution_count": null,
   "id": "5ce7a631",
   "metadata": {},
   "outputs": [],
   "source": [
    "df_static_users_rows=[]\n",
    "for key, data in table_datascience_posts.scan():\n",
    "    last_edit_date = int(data.get(b'post_details:last_edit_date', b'0').decode('UTF-8'))\n",
    "    if last_edit_date == 0:\n",
    "        last_edit_date = None\n",
    "        \n",
    "    owner_account_id = int(data.get(b'owner:account_id', b'0').decode('UTF-8'))\n",
    "    if owner_account_id == 0:\n",
    "        owner_account_id = None\n",
    "        \n",
    "    owner_reputation = int(data.get(b'owner:reputation', b'-1000000000').decode('UTF-8'))\n",
    "    if owner_reputation == -1000000000:\n",
    "        owner_reputation = None\n",
    "    \n",
    "    owner_user_id = int(data.get(b'owner:user_id', b'-1000000000').decode('UTF-8'))\n",
    "    if owner_user_id == -1000000000:\n",
    "        owner_user_id = None\n",
    "    new_row = {\n",
    "        'owner_account_id': owner_account_id,\n",
    "        'owner_reputation': owner_reputation,\n",
    "        'owner_user_id': owner_user_id,\n",
    "        'owner_user_type': data[b'owner:user_type'].decode('UTF-8'),\n",
    "        'post_answer_count': int(data[b'post_details:answer_count'].decode('UTF-8')),\n",
    "        'post_creation_date': int(data[b'post_details:creation_date'].decode('UTF-8')),\n",
    "        'post_is_answered': bool(data[b'post_details:is_answered'].decode('UTF-8')),\n",
    "        'post_last_activity_date': int(data[b'post_details:last_activity_date'].decode('UTF-8')),\n",
    "        'post_last_edit_date': last_edit_date,\n",
    "        'post_score': int(data[b'post_details:score'].decode('UTF-8')),\n",
    "        'post_title': data[b'post_details:title'].decode('UTF-8'),\n",
    "        'post_view_count': int(data[b'post_details:view_count'].decode('UTF-8')),\n",
    "        'question_id': int(key.decode('UTF-8'))\n",
    "    }\n",
    "    df_online_rows.append(new_row)\n",
    "    tags = [t.strip('\"') for t in data[b'tags:tags'].decode('UTF-8').strip('[]').split(',')]\n",
    "    for tag in tags:\n",
    "        df_online_tags_rows.append({'question_id': new_row['question_id'],\n",
    "                                   'tag': tag})\n",
    "df_online = pd.DataFrame(df_online_rows)\n",
    "df_online_tags=pd.DataFrame(df_online_tags_rows)"
   ]
  }
 ],
 "metadata": {
  "kernelspec": {
   "display_name": "python3.9",
   "language": "python",
   "name": "python3.9"
  },
  "language_info": {
   "codemirror_mode": {
    "name": "ipython",
    "version": 3
   },
   "file_extension": ".py",
   "mimetype": "text/x-python",
   "name": "python",
   "nbconvert_exporter": "python",
   "pygments_lexer": "ipython3",
   "version": "3.9.4"
  }
 },
 "nbformat": 4,
 "nbformat_minor": 5
}
